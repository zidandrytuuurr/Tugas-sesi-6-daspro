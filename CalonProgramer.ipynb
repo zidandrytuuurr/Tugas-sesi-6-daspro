{
 "cells": [
  {
   "cell_type": "markdown",
   "id": "ac795314-6a95-4861-a410-d4a25216681f",
   "metadata": {},
   "source": [
    "Calon programer"
   ]
  },
  {
   "cell_type": "code",
   "execution_count": 9,
   "id": "da20e9c6-8a72-4947-9a73-8571c92990b6",
   "metadata": {},
   "outputs": [
    {
     "name": "stdin",
     "output_type": "stream",
     "text": [
      "Masukan Nilai : 100\n",
      "Masukan Nilai interview : A\n"
     ]
    },
    {
     "name": "stdout",
     "output_type": "stream",
     "text": [
      "Selamat Kamu Berhasil Menjadi Calon Programmer\n"
     ]
    }
   ],
   "source": [
    "nilai_coding = int(input(\"Masukan Nilai :\"))\n",
    "hasil_coding =''\n",
    "\n",
    "if nilai_coding > 80  and nilai_coding <=100:\n",
    "   hasil_coding =\"LOLOS\"\n",
    "elif nilai_coding >=60 and nilai_coding <=80:\n",
    "     hasil_coding= \"DIPERTIMBANGKAN\"\n",
    "elif nilai_coding >= 0 and nilai_coding <  60 :\n",
    "     hasil_coding = \"GAGAL\"\n",
    "else: \n",
    "    print(\"input anda salah\")\n",
    "nilai_interview = input(\"Masukan Nilai interview :\")\n",
    "hasil_interview =''\n",
    "\n",
    "if  nilai_interview == \"A\" or nilai_interview == \"B\":\n",
    "    hasil_interview = \"LOLOS\"    \n",
    "else:\n",
    "    hasil_interview = \"GAGAL\"\n",
    "    \n",
    "if (hasil_coding == \"LOLOS\" or hasil_coding == \"DIPERTIMBANGKAN\") and hasil_interview == \"LOLOS\":\n",
    "    print(\"Selamat Kamu Berhasil Menjadi Calon Programmer\")\n",
    "else:    \n",
    "    print(\"Maaf Kamu Belum Berhasil Menjadi Calon Programmer\")"
   ]
  },
  {
   "cell_type": "code",
   "execution_count": null,
   "id": "4e477808-238e-4272-aae8-64630ef4532a",
   "metadata": {},
   "outputs": [],
   "source": []
  }
 ],
 "metadata": {
  "kernelspec": {
   "display_name": "Python 3 (ipykernel)",
   "language": "python",
   "name": "python3"
  },
  "language_info": {
   "codemirror_mode": {
    "name": "ipython",
    "version": 3
   },
   "file_extension": ".py",
   "mimetype": "text/x-python",
   "name": "python",
   "nbconvert_exporter": "python",
   "pygments_lexer": "ipython3",
   "version": "3.11.7"
  }
 },
 "nbformat": 4,
 "nbformat_minor": 5
}
