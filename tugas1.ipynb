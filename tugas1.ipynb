{
 "cells": [
  {
   "cell_type": "markdown",
   "id": "8432fc8f-4af7-4eb3-8c86-54bbdca73bcb",
   "metadata": {},
   "source": [
    "tugas 1"
   ]
  },
  {
   "cell_type": "code",
   "execution_count": 1,
   "id": "de99130a-7086-4018-b351-fc24e809495f",
   "metadata": {},
   "outputs": [
    {
     "name": "stdin",
     "output_type": "stream",
     "text": [
      "Isikan Nilai: 9\n"
     ]
    },
    {
     "name": "stdout",
     "output_type": "stream",
     "text": [
      "9 adalah bilangan gajil\n",
      "Program selesai\n"
     ]
    }
   ],
   "source": [
    "#Menentukan ganjil genap\n",
    "nilai = int(input('Isikan Nilai:'))\n",
    "sisa_bagi = nilai % 2\n",
    "  \n",
    "if sisa_bagi==0:\n",
    "  print(f'{nilai} dalah bilangan genap')\n",
    "else:\n",
    "  print(f'{nilai} adalah bilangan gajil')\n",
    "      \n",
    "print('Program selesai')\n"
   ]
  },
  {
   "cell_type": "code",
   "execution_count": 2,
   "id": "aaaac9d9-b935-4f95-9588-019eb6869356",
   "metadata": {},
   "outputs": [
    {
     "name": "stdin",
     "output_type": "stream",
     "text": [
      "Isikan nilai pemrograman: 8\n"
     ]
    },
    {
     "name": "stdout",
     "output_type": "stream",
     "text": [
      "E\n"
     ]
    }
   ],
   "source": [
    "nilai_pemrogram = int(input('Isikan nilai pemrograman:'))\n",
    "if nilai_pemrogram < 0 or nilai_pemrogram >100:\n",
    "    print('Nilai Anda salah')\n",
    "else:\n",
    "    if nilai_pemrogram <50:\n",
    "        print('E')\n",
    "    elif nilai_pemrogram <60:\n",
    "        print ('D')\n",
    "    elif nilai_pemrogram <70:\n",
    "        print ('C')\n",
    "    elif nilai_pemrogram <80:\n",
    "        print ('B')\n",
    "    elif nilai_pemrogram <=100:\n",
    "        print ('A')\n"
   ]
  },
  {
   "cell_type": "code",
   "execution_count": 4,
   "id": "982d2010-54dd-403f-a7dd-5f9cff91343a",
   "metadata": {},
   "outputs": [
    {
     "name": "stdin",
     "output_type": "stream",
     "text": [
      "isikan username: yudi\n",
      "isikan password: jaja\n"
     ]
    },
    {
     "name": "stdout",
     "output_type": "stream",
     "text": [
      "username dan password anda salah\n"
     ]
    }
   ],
   "source": [
    "username = input('isikan username:')\n",
    "password = input('isikan password:')\n",
    "\n",
    "#jika username salah maka muncul \"username anda salah\"\n",
    "#jika password salah maka muncul \"password anda salah\"\n",
    "#jika keduanya salah maka muncul \"username dan password anda salah\"\n",
    "#jika keduanya benar => \"selamat datang (username)\"\n",
    "#username : admin\n",
    "#password : admin\n",
    "\n",
    "if username == 'admin':\n",
    "    if password == 'admin':\n",
    "        print(f'selamat datang {username}')\n",
    "    else:\n",
    "        print(f'password anda salah')\n",
    "else:\n",
    "    if password == 'admin':\n",
    "        print(\"username anda salah\")\n",
    "    else:\n",
    "        print(\"username dan password anda salah\")\n",
    "\n"
   ]
  },
  {
   "cell_type": "code",
   "execution_count": 6,
   "id": "867f0f95-80d2-4160-bbb4-f233e3ddd095",
   "metadata": {},
   "outputs": [
    {
     "name": "stdin",
     "output_type": "stream",
     "text": [
      "masukan nama: lala\n",
      "masukan umur: 19\n",
      "masukan alamat: nevada\n",
      "jumlah tabungan: 10\n"
     ]
    },
    {
     "name": "stdout",
     "output_type": "stream",
     "text": [
      "lala tidak mencurigakan\n"
     ]
    }
   ],
   "source": [
    "# In[15]:\n",
    "\n",
    "\n",
    "nama = input('masukan nama:')\n",
    "umur = int(input('masukan umur:'))\n",
    "alamat = input('masukan alamat:')\n",
    "tabungan = int(input('jumlah tabungan:'))\n",
    "\n",
    "\n",
    "pangkat = ''\n",
    "if umur > 40:\n",
    "    if alamat == 'New york' or alamat == 'nevada' or alamat == 'havana':\n",
    "        if tabungan > 10:\n",
    "            pangkat = 'Don'\n",
    "\n",
    "elif umur >25 and umur <40:\n",
    "    if alamat == 'new jersey' or alamat == 'manhattan' or alamat == 'nevada':\n",
    "        if tabungan >=1 and tabungan <=2:\n",
    "            pangkat = 'Underboss'\n",
    "                \n",
    "elif umur >18 and umur <24:\n",
    "    if alamat == 'california' or alamat == 'detroit' or  alamat == 'boston':\n",
    "        if tabungan <= 1:\n",
    "            pangkat = 'Capo'\n",
    "            \n",
    "if pangkat != '':\n",
    "    print(f'{nama} kemungkinan seorang anggota mafia dengan pangkat {pangkat}')\n",
    "else:\n",
    "    print(f'{nama} tidak mencurigakan')"
   ]
  },
  {
   "cell_type": "code",
   "execution_count": null,
   "id": "fd2898d1-a95c-4211-b13a-d018e3b5cede",
   "metadata": {},
   "outputs": [],
   "source": []
  }
 ],
 "metadata": {
  "kernelspec": {
   "display_name": "Python 3 (ipykernel)",
   "language": "python",
   "name": "python3"
  },
  "language_info": {
   "codemirror_mode": {
    "name": "ipython",
    "version": 3
   },
   "file_extension": ".py",
   "mimetype": "text/x-python",
   "name": "python",
   "nbconvert_exporter": "python",
   "pygments_lexer": "ipython3",
   "version": "3.11.7"
  }
 },
 "nbformat": 4,
 "nbformat_minor": 5
}
